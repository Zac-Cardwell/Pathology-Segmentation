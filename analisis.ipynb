{
 "cells": [
  {
   "cell_type": "code",
   "execution_count": 1,
   "id": "d7f7a233-cb92-4fb4-ad44-5f3ff75bc76a",
   "metadata": {},
   "outputs": [],
   "source": [
    "import torch\n",
    "import matplotlib as plt\n",
    "import numpy as np\n",
    "from PIL import Image\n",
    "import torchvision.transforms as transforms\n",
    "from tqdm import tqdm"
   ]
  },
  {
   "cell_type": "code",
   "execution_count": null,
   "id": "4d294301-93be-4586-bd60-6d37c83f9153",
   "metadata": {},
   "outputs": [],
   "source": []
  },
  {
   "cell_type": "code",
   "execution_count": 2,
   "id": "58a84d97-a1cf-4155-b93f-3c3e7821f02e",
   "metadata": {},
   "outputs": [],
   "source": [
    "import os\n",
    "\n",
    "folder_path = \"C:/Users/zacca/Python/DL_Proj_Models/dataset/pathtools_gleason_grading/masks\"\n",
    "files = os.listdir(folder_path)"
   ]
  },
  {
   "cell_type": "code",
   "execution_count": 3,
   "id": "0562da34-165a-422f-855e-e766e2e95c83",
   "metadata": {},
   "outputs": [
    {
     "name": "stderr",
     "output_type": "stream",
     "text": [
      "100%|████████████████████████████████████████████████████████████████████████████| 51468/51468 [09:45<00:00, 87.90it/s]\n"
     ]
    }
   ],
   "source": [
    "class_1 = []\n",
    "class_2 = []\n",
    "class_3 = []\n",
    "class_4 = []\n",
    "class_5 = []\n",
    "class_none = []\n",
    "\n",
    "for file_name in tqdm(files):\n",
    "    file_path = os.path.join(folder_path, file_name)\n",
    "    image = Image.open(file_path)\n",
    "    image_data = image.getdata()\n",
    "\n",
    "    if 1 in image_data:\n",
    "        class_1.append(file_name)\n",
    "\n",
    "    if 2 in image_data:\n",
    "        class_2.append(file_name)\n",
    "\n",
    "    if 3 in image_data:\n",
    "        class_3.append(file_name)\n",
    "\n",
    "    if 4 in image_data:\n",
    "        class_4.append(file_name)\n",
    "\n",
    "    if 5 in image_data:\n",
    "        class_5.append(file_name)\n",
    "\n",
    "    if all(x == 0 for x in image_data):\n",
    "        class_none.append(file_name)"
   ]
  },
  {
   "cell_type": "code",
   "execution_count": 4,
   "id": "f38c0d7e-fe43-41c2-a80b-a0a76ab32269",
   "metadata": {},
   "outputs": [
    {
     "name": "stdout",
     "output_type": "stream",
     "text": [
      "66\n",
      "3615\n",
      "4305\n",
      "11183\n",
      "0\n",
      "33205\n"
     ]
    }
   ],
   "source": [
    "print(len(class_1))\n",
    "print(len(class_2))\n",
    "print(len(class_3))\n",
    "print(len(class_4))\n",
    "print(len(class_5))\n",
    "print(len(class_none))"
   ]
  },
  {
   "cell_type": "code",
   "execution_count": 39,
   "id": "eff6b687-e9ed-4856-95e4-8817daca202c",
   "metadata": {},
   "outputs": [
    {
     "data": {
      "text/plain": [
       "[266,\n",
       " 357,\n",
       " 802,\n",
       " 324,\n",
       " 148,\n",
       " 86,\n",
       " 989,\n",
       " 685,\n",
       " 410,\n",
       " 451,\n",
       " 487,\n",
       " 11,\n",
       " 452,\n",
       " 261,\n",
       " 578,\n",
       " 580,\n",
       " 57,\n",
       " 609,\n",
       " 478,\n",
       " 540,\n",
       " 349,\n",
       " 697,\n",
       " 483,\n",
       " 177,\n",
       " 621,\n",
       " 530,\n",
       " 835,\n",
       " 132,\n",
       " 79,\n",
       " 477]"
      ]
     },
     "execution_count": 39,
     "metadata": {},
     "output_type": "execute_result"
    }
   ],
   "source": [
    "import random\n",
    "\n",
    "num_augmentations = 30\n",
    "\n",
    "transform = transforms.Compose([\n",
    "    transforms.RandomHorizontalFlip(),\n",
    "    transforms.RandomRotation(degrees=90)\n",
    "])\n",
    "\n",
    "seeds = []\n",
    "\n",
    "for i in range(num_augmentations):\n",
    "    seeds.append(random.randint(0, 1000))\n",
    "\n",
    "seeds"
   ]
  },
  {
   "cell_type": "code",
   "execution_count": 40,
   "id": "d59ecd18-1a46-4c2a-ba82-d7e427190a6b",
   "metadata": {},
   "outputs": [],
   "source": [
    "mask_folder_path = \"C:/Users/zacca/Python/DL_Proj_Models/dataset/pathtools_gleason_grading/masks\"\n",
    "target_folder_path = \"C:/Users/zacca/Python/DL_Proj_Models/dataset/pathtools_gleason_grading/images\"\n",
    "\n",
    "for file_name in class_1:\n",
    "    mask_file_path = os.path.join(mask_folder_path, file_name)\n",
    "    target_file_path = os.path.join(target_folder_path, file_name)\n",
    "    \n",
    "    mask_image = Image.open(mask_file_path)\n",
    "    target_image = Image.open(target_file_path)\n",
    "\n",
    "    for i in range(num_augmentations):\n",
    "        torch.manual_seed(seeds[i])\n",
    "        augmented_mask_image = transform(mask_image)\n",
    "        torch.manual_seed(seeds[i])\n",
    "        augmented_target_image = transform(target_image)\n",
    "        \n",
    "        # Save the augmented images\n",
    "        augmented_mask_file_path = os.path.join(mask_folder_path, f\"augmented_{file_name[:-4]}_{i}.jpg\")\n",
    "        augmented_target_file_path = os.path.join(target_folder_path, f\"augmented_{file_name[:-4]}_{i}.jpg\")\n",
    "        \n",
    "        augmented_mask_image.save(augmented_mask_file_path)\n",
    "        augmented_target_image.save(augmented_target_file_path)"
   ]
  },
  {
   "cell_type": "code",
   "execution_count": null,
   "id": "69fca9cb-6f46-4e04-8dc8-6abe90c842f0",
   "metadata": {},
   "outputs": [],
   "source": []
  },
  {
   "cell_type": "code",
   "execution_count": 41,
   "id": "19eadca6-18d0-4771-8521-559889fc0a01",
   "metadata": {
    "scrolled": true
   },
   "outputs": [
    {
     "name": "stderr",
     "output_type": "stream",
     "text": [
      "100%|████████████████████████████████████████████████████████████████████████████| 53448/53448 [13:47<00:00, 64.59it/s]"
     ]
    },
    {
     "name": "stdout",
     "output_type": "stream",
     "text": [
      "33243\n",
      "1063\n",
      "4544\n",
      "4863\n",
      "11496\n"
     ]
    },
    {
     "name": "stderr",
     "output_type": "stream",
     "text": [
      "\n"
     ]
    }
   ],
   "source": [
    "\n",
    "folder_path = \"C:/Users/zacca/Python/DL_Proj_Models/dataset/pathtools_gleason_grading/masks\"\n",
    "files = os.listdir(folder_path)\n",
    "\n",
    "\n",
    "\n",
    "class_11 = []\n",
    "class_21 = []\n",
    "class_31 = []\n",
    "class_41 = []\n",
    "\n",
    "class_none1 = []\n",
    "extra = []\n",
    "llist = [0,1,2,3,4,5]\n",
    "for file_name in tqdm(files):\n",
    "    file_path = os.path.join(folder_path, file_name)\n",
    "    image = Image.open(file_path)\n",
    "    image_data = image.getdata()\n",
    "\n",
    "    if set(image_data) & set([5,6,7,8]):\n",
    "        continue\n",
    "        \n",
    "    if 1 in image_data:\n",
    "        class_11.append(file_name)\n",
    "\n",
    "    if 2 in image_data:\n",
    "        class_21.append(file_name)\n",
    "\n",
    "    if 3 in image_data:\n",
    "        class_31.append(file_name)\n",
    "\n",
    "    if 4 in image_data:\n",
    "        class_41.append(file_name)\n",
    "        \n",
    "    if all(x == 0 for x in image_data):\n",
    "        class_none1.append(file_name)\n",
    "\n",
    "    extra.append(any(num not in llist for num in image_data))\n",
    "    unique_numbers = list(set(extra))\n",
    "\n",
    "\n",
    "print(len(class_none1))\n",
    "print(len(class_11))\n",
    "print(len(class_21))\n",
    "print(len(class_31))\n",
    "print(len(class_41))"
   ]
  },
  {
   "cell_type": "code",
   "execution_count": null,
   "id": "0f76437a-819b-448d-8879-6903370196dc",
   "metadata": {},
   "outputs": [],
   "source": []
  },
  {
   "cell_type": "code",
   "execution_count": 45,
   "id": "2a6fb02e-adda-420e-8fa7-d76d28e7d100",
   "metadata": {},
   "outputs": [],
   "source": [
    "augmented_training_list = class_11 + class_21 + class_31 + random.sample(class_41, 5000) + random.sample(class_none1, 2000)"
   ]
  },
  {
   "cell_type": "code",
   "execution_count": 46,
   "id": "8a4bf677-2903-4b5c-8dd2-04fa9cc90938",
   "metadata": {},
   "outputs": [],
   "source": [
    "from pathlib import Path\n",
    "\n",
    "masks = [str(Path(mask_folder_path) / file) for file in augmented_training_list]  # Combine paths\n",
    "imgs = [str(Path(target_folder_path) / file) for file in augmented_training_list]  # Combine paths\n",
    "torch.save((imgs, masks), 'train_data_augmented.pth')"
   ]
  },
  {
   "cell_type": "code",
   "execution_count": 17,
   "id": "bc8c49e5-aa83-44eb-957f-497dc880dc01",
   "metadata": {},
   "outputs": [],
   "source": [
    "def get_weights(dis):\n",
    "    total_samples = sum(dis)\n",
    "\n",
    "    # Calculate inverse class frequencies\n",
    "    inverse_frequencies = [total_samples / (class_samples * len(dis)) for class_samples in dis]\n",
    "\n",
    "    # Normalize inverse frequencies to sum up to 1\n",
    "    class_weights = [freq / sum(inverse_frequencies) for freq in inverse_frequencies]\n",
    "\n",
    "    return class_weights"
   ]
  },
  {
   "cell_type": "code",
   "execution_count": 47,
   "id": "80ecadee-dd32-458e-9012-afb8ec103c72",
   "metadata": {
    "scrolled": true
   },
   "outputs": [
    {
     "data": {
      "text/plain": [
       "[0.24196218826831767,\n",
       " 0.45524400426776607,\n",
       " 0.106497442019506,\n",
       " 0.09951149013708314,\n",
       " 0.09678487530732706]"
      ]
     },
     "execution_count": 47,
     "metadata": {},
     "output_type": "execute_result"
    }
   ],
   "source": [
    "dis = [2000, 1063, 4544, 4863, 5000]\n",
    "get_weights(dis)"
   ]
  },
  {
   "cell_type": "code",
   "execution_count": 21,
   "id": "9379075a-3151-4c2b-8751-4345a4bbc2be",
   "metadata": {},
   "outputs": [
    {
     "name": "stderr",
     "output_type": "stream",
     "text": [
      "100%|███████████████████████████████████████████████████████████████████████████| 52458/52458 [01:27<00:00, 596.55it/s]\n"
     ]
    },
    {
     "data": {
      "text/plain": [
       "[0, 2, 1, 3, 4, 5, 6, 7, 8]"
      ]
     },
     "execution_count": 21,
     "metadata": {},
     "output_type": "execute_result"
    }
   ],
   "source": [
    "\n",
    "folder_path = \"C:/Users/zacca/Python/DL_Proj_Models/dataset/pathtools_gleason_grading/masks\"\n",
    "files = os.listdir(folder_path)\n",
    "uniques = []\n",
    "for file_name in tqdm(files):\n",
    "    file_path = os.path.join(folder_path, file_name)\n",
    "    image = Image.open(file_path)\n",
    "    image_data = image.getdata()\n",
    "\n",
    "    unique_numbers = list(set(image_data))\n",
    "    uniques += [num for num in unique_numbers if num not in uniques]\n",
    "\n",
    "uniques"
   ]
  },
  {
   "cell_type": "code",
   "execution_count": null,
   "id": "ea5573e1-9078-4ea7-bb91-974a67633de0",
   "metadata": {},
   "outputs": [],
   "source": []
  },
  {
   "cell_type": "code",
   "execution_count": null,
   "id": "5bdf2646-42aa-4ced-9efa-3b386824b895",
   "metadata": {},
   "outputs": [],
   "source": []
  },
  {
   "cell_type": "code",
   "execution_count": null,
   "id": "374e83eb-ccf5-424f-b26e-3aeb8ab57cca",
   "metadata": {},
   "outputs": [],
   "source": []
  },
  {
   "cell_type": "code",
   "execution_count": null,
   "id": "5dd27659-064a-4d61-9fa8-e24f514f6466",
   "metadata": {},
   "outputs": [],
   "source": []
  },
  {
   "cell_type": "code",
   "execution_count": null,
   "id": "64acf710-c203-430d-9391-1cd891d3a6e0",
   "metadata": {},
   "outputs": [],
   "source": []
  },
  {
   "cell_type": "code",
   "execution_count": null,
   "id": "6eb4a63a-ed1f-4f4b-a9ed-909c3fcf84ce",
   "metadata": {},
   "outputs": [],
   "source": []
  },
  {
   "cell_type": "code",
   "execution_count": null,
   "id": "b0151838-3589-4549-8ee2-904bf3c169bf",
   "metadata": {},
   "outputs": [],
   "source": []
  },
  {
   "cell_type": "code",
   "execution_count": 35,
   "id": "fdfe01ac-3f9c-4726-9151-caa9dcc9df84",
   "metadata": {},
   "outputs": [
    {
     "data": {
      "text/plain": [
       "{4}"
      ]
     },
     "execution_count": 35,
     "metadata": {},
     "output_type": "execute_result"
    }
   ],
   "source": [
    "t = [1,2,3,4]\n",
    "h = [4,5,6,7]\n",
    "set(t) & set(h)"
   ]
  },
  {
   "cell_type": "code",
   "execution_count": null,
   "id": "848cc346-ce23-4d85-9123-0f53c86e632b",
   "metadata": {},
   "outputs": [],
   "source": []
  },
  {
   "cell_type": "code",
   "execution_count": null,
   "id": "c2f61b17-c430-48c2-9cd6-9bda19eb4fa9",
   "metadata": {},
   "outputs": [],
   "source": []
  }
 ],
 "metadata": {
  "kernelspec": {
   "display_name": "Python 3 (ipykernel)",
   "language": "python",
   "name": "python3"
  },
  "language_info": {
   "codemirror_mode": {
    "name": "ipython",
    "version": 3
   },
   "file_extension": ".py",
   "mimetype": "text/x-python",
   "name": "python",
   "nbconvert_exporter": "python",
   "pygments_lexer": "ipython3",
   "version": "3.11.5"
  }
 },
 "nbformat": 4,
 "nbformat_minor": 5
}
